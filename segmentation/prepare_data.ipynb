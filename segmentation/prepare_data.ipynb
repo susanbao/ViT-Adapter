{
 "cells": [
  {
   "cell_type": "code",
   "execution_count": 25,
   "id": "7ad3b622-deb9-4d36-9798-5bf56b467636",
   "metadata": {
    "tags": []
   },
   "outputs": [],
   "source": [
    "import scipy.io as sio\n",
    "import numpy as np\n",
    "import imageio as iio\n",
    "from scipy.special import softmax\n",
    "import json\n",
    "from PIL import Image"
   ]
  },
  {
   "cell_type": "code",
   "execution_count": 2,
   "id": "9f708a0e-5205-40f7-8671-b1ccbc784198",
   "metadata": {
    "tags": []
   },
   "outputs": [],
   "source": [
    "annoatation_path = \"./data/coco_stuff10k/annotations/\"\n",
    "output_path = \"./pro_data/coco_stuff10k/out/test/\""
   ]
  },
  {
   "cell_type": "code",
   "execution_count": 32,
   "id": "6c207621-e3be-460c-bf29-720140687477",
   "metadata": {
    "tags": []
   },
   "outputs": [],
   "source": [
    "file_name = \"COCO_train2014_000000000825\"\n",
    "image_path = \"./data/coco_stuff10k/images/\"\n",
    "image = np.asarray(Image.open(image_path + file_name + \".jpg\"), dtype=np.float32)"
   ]
  },
  {
   "cell_type": "code",
   "execution_count": 33,
   "id": "bba2f9d4-5e19-4c17-8f0e-7f3bfd542a41",
   "metadata": {
    "tags": []
   },
   "outputs": [
    {
     "data": {
      "text/plain": [
       "(480, 640, 3)"
      ]
     },
     "execution_count": 33,
     "metadata": {},
     "output_type": "execute_result"
    }
   ],
   "source": [
    "image.shape"
   ]
  },
  {
   "cell_type": "code",
   "execution_count": 19,
   "id": "a8d7338c-6519-4a4f-9d6a-91d40c15f5fb",
   "metadata": {},
   "outputs": [],
   "source": [
    "def np_read(file):\n",
    "    with open(file, \"rb\") as outfile:\n",
    "        data = np.load(outfile)\n",
    "    return data\n",
    "def np_write(data, file):\n",
    "    with open(file, \"wb\") as outfile:\n",
    "        np.save(outfile, data)\n",
    "        \n",
    "def write_one_results(path, json_data):\n",
    "    with open(path, \"w\") as outfile:\n",
    "        json.dump(json_data, outfile)\n",
    "\n",
    "def read_one_results(path):\n",
    "    with open(path, \"r\") as outfile:\n",
    "        data = json.load(outfile)\n",
    "    return data"
   ]
  },
  {
   "cell_type": "code",
   "execution_count": 4,
   "id": "f3ca5749-6098-4d81-844e-2df8d15dc5b7",
   "metadata": {
    "tags": []
   },
   "outputs": [],
   "source": [
    "file_name = \"COCO_train2014_000000000825\"\n",
    "labels = sio.loadmat(annoatation_path + file_name + \".mat\")['S']\n",
    "outputs = np_read(output_path + file_name + \".npy\")"
   ]
  },
  {
   "cell_type": "code",
   "execution_count": 15,
   "id": "3010ebb2-d639-4bf9-bdd6-044bcac43a77",
   "metadata": {
    "tags": []
   },
   "outputs": [
    {
     "data": {
      "text/plain": [
       "array([[167, 167, 167, ..., 167, 167, 167],\n",
       "       [167, 167, 167, ..., 167, 167, 167],\n",
       "       [167, 167, 167, ..., 167, 167, 167],\n",
       "       ...,\n",
       "       [167, 167, 167, ..., 167, 167, 167],\n",
       "       [167, 167, 167, ..., 167, 167, 167],\n",
       "       [167, 167, 167, ..., 167, 167, 167]], dtype=uint8)"
      ]
     },
     "execution_count": 15,
     "metadata": {},
     "output_type": "execute_result"
    }
   ],
   "source": [
    "labels"
   ]
  },
  {
   "cell_type": "code",
   "execution_count": 16,
   "id": "b93f658a-73ca-46d5-979b-b3b551a0f7c0",
   "metadata": {
    "tags": []
   },
   "outputs": [
    {
     "data": {
      "text/plain": [
       "(17, 167)"
      ]
     },
     "execution_count": 16,
     "metadata": {},
     "output_type": "execute_result"
    }
   ],
   "source": [
    "labels.min(), labels.max()"
   ]
  },
  {
   "cell_type": "code",
   "execution_count": 13,
   "id": "5bdd192a-1b06-44bf-a3c7-1a7f2aa2b27a",
   "metadata": {
    "tags": []
   },
   "outputs": [],
   "source": [
    "temp_outputs = softmax(outputs, axis=0)\n",
    "results = temp_outputs.argmax(axis=0)"
   ]
  },
  {
   "cell_type": "code",
   "execution_count": 30,
   "id": "55695eb1-eb37-401d-a67e-fcac3a0e1b6b",
   "metadata": {
    "tags": []
   },
   "outputs": [
    {
     "data": {
      "text/plain": [
       "array([[59, 59, 59, ..., 59, 59, 59],\n",
       "       [59, 59, 59, ..., 59, 59, 59],\n",
       "       [59, 59, 59, ..., 59, 59, 59],\n",
       "       ...,\n",
       "       [59, 59, 59, ..., 59, 59, 59],\n",
       "       [59, 59, 59, ..., 59, 59, 59],\n",
       "       [59, 59, 59, ..., 59, 59, 59]])"
      ]
     },
     "execution_count": 30,
     "metadata": {},
     "output_type": "execute_result"
    }
   ],
   "source": [
    "results"
   ]
  },
  {
   "cell_type": "code",
   "execution_count": 22,
   "id": "74829566-72d2-4b9f-a832-f757ecd001e3",
   "metadata": {
    "tags": []
   },
   "outputs": [],
   "source": [
    "json_data = read_one_results(\"./data/coco_stuff10k/cocostuff-10k-v1.1.json\")"
   ]
  },
  {
   "cell_type": "code",
   "execution_count": 26,
   "id": "aa2a1037-476c-4767-a907-220574b93ff8",
   "metadata": {
    "tags": []
   },
   "outputs": [],
   "source": [
    "image = np.asarray(Image.open(annoatation_path + \"test2014/\" + file_name + \"_labelTrainIds.png\"), dtype=np.float32)"
   ]
  },
  {
   "cell_type": "code",
   "execution_count": 29,
   "id": "70a53285-af0e-4d9c-9fa9-5062cf975b61",
   "metadata": {
    "tags": []
   },
   "outputs": [
    {
     "data": {
      "text/plain": [
       "array([[156., 156., 156., ..., 156., 156., 156.],\n",
       "       [156., 156., 156., ..., 156., 156., 156.],\n",
       "       [156., 156., 156., ..., 156., 156., 156.],\n",
       "       ...,\n",
       "       [156., 156., 156., ..., 156., 156., 156.],\n",
       "       [156., 156., 156., ..., 156., 156., 156.],\n",
       "       [156., 156., 156., ..., 156., 156., 156.]], dtype=float32)"
      ]
     },
     "execution_count": 29,
     "metadata": {},
     "output_type": "execute_result"
    }
   ],
   "source": [
    "image"
   ]
  },
  {
   "cell_type": "code",
   "execution_count": null,
   "id": "3f7a2fba-422f-4b7b-a7a8-65518ae7c8a6",
   "metadata": {},
   "outputs": [],
   "source": []
  }
 ],
 "metadata": {
  "kernelspec": {
   "display_name": "Python 3 (ipykernel)",
   "language": "python",
   "name": "python3"
  },
  "language_info": {
   "codemirror_mode": {
    "name": "ipython",
    "version": 3
   },
   "file_extension": ".py",
   "mimetype": "text/x-python",
   "name": "python",
   "nbconvert_exporter": "python",
   "pygments_lexer": "ipython3",
   "version": "3.7.10"
  }
 },
 "nbformat": 4,
 "nbformat_minor": 5
}
